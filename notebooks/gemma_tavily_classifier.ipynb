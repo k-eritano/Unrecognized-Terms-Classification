{
 "cells": [
  {
   "cell_type": "markdown",
   "metadata": {},
   "source": [
    "# Unrecognized Term Classification\n",
    "by Katie Eritano\n",
    "\n",
    "The purpose of this notebook is to leverage LLMs to classify large quantities of terms. "
   ]
  },
  {
   "cell_type": "markdown",
   "metadata": {},
   "source": [
    "### Set Up\n",
    "\n",
    "Prior to running this notebook user must have Ollama installed from: \n",
    "https://ollama.com/download\n",
    "\n",
    "From there you must install gemma3 or gemma3:1b via the terminal:\n",
    "`ollama pull gemma3`\n",
    "\n",
    "After this make sure to install the needed libraries:\n",
    "`pandas`, `jupyter`, `langchain`. \n",
    "\n",
    "Special installations include:\n",
    "`langchain-ollama` which can be installed using the command `pip install -U langchain-ollama`\n",
    "and \n",
    "`langchain-tavily` installed using the command `pip install -qU langchain-tavily`\n",
    "\n",
    "Users will need to set up a Tavily account in order to get an API key. Sign up here:\n",
    "https://app.tavily.com\n",
    "\n",
    "Upon running the notebook user will be prompted to enter API key. "
   ]
  },
  {
   "cell_type": "markdown",
   "metadata": {},
   "source": [
    "### Import libraries and get Tavily API key"
   ]
  },
  {
   "cell_type": "code",
   "execution_count": 46,
   "metadata": {},
   "outputs": [],
   "source": [
    "import pandas as pd\n",
    "import numpy as np\n",
    "from langchain_community.tools.tavily_search import TavilySearchResults\n",
    "from langchain_ollama import OllamaLLM\n",
    "from langchain_core.prompts import ChatPromptTemplate\n",
    "from langchain_core.output_parsers import StrOutputParser\n",
    "import getpass\n",
    "import os\n",
    "from tqdm import tqdm\n",
    "\n",
    "# Asks for API Key input\n",
    "if not os.environ.get(\"TAVILY_API_KEY\"):\n",
    "    os.environ[\"TAVILY_API_KEY\"] = getpass.getpass(\"Tavily API key:\\n\")\n"
   ]
  },
  {
   "cell_type": "markdown",
   "metadata": {},
   "source": [
    "### Read CSV Data"
   ]
  },
  {
   "cell_type": "code",
   "execution_count": 47,
   "metadata": {},
   "outputs": [],
   "source": [
    "words_df = pd.read_csv('/Users/katieeeritano/Desktop/Unrecognized-Terms-Classification/data/chatgpt_classifier_7923_words - 7923_words.csv')\n",
    "\n",
    "# Gets all terms from the first column\n",
    "#terms = words_df.iloc[:, 0]\n",
    "\n",
    "# Gets terms up to a specifc number\n",
    "terms = words_df['word'][:20]"
   ]
  },
  {
   "cell_type": "code",
   "execution_count": 48,
   "metadata": {},
   "outputs": [],
   "source": [
    "# Setup Tavily and Ollama\n",
    "search = TavilySearchResults()\n",
    "llm = OllamaLLM(model=\"gemma3\")"
   ]
  },
  {
   "cell_type": "code",
   "execution_count": 67,
   "metadata": {},
   "outputs": [],
   "source": [
    "# Setup prompt\n",
    "prompt = ChatPromptTemplate.from_template(\"\"\"\n",
    "You are classifying terms found in online text. Each term comes with a summary from web search.\n",
    "\n",
    "Classify the term into one of the following categories, using both the summary and your best reasoning. Focus especially on morphological variants and culturally specific language.\n",
    "\n",
    "Classification Labels:\n",
    "\n",
    "- 0 — Common English Word or Neologism: Includes widely recognized English words, internet slang, and new terms understandable to the general public. Also includes misspellings and morphological variants (e.g., plural or possessive forms) of common terms.\n",
    "\n",
    "- 1 — Proper Noun, Name, Place, or Event: Names of people (e.g., politicians, theorists), places (e.g., cities, countries), or major events (e.g., Watergate). Includes misspellings and variations of such proper nouns.\n",
    "\n",
    "- 2 — Foreign Word: A non-English word, whether common or obscure in its origin language. Includes recognizable misspellings of foreign terms.\n",
    "\n",
    "- 3 — Common Slur or Derogatory Term: Recognizable and historically offensive terms. These are known to be slurs or inflammatory language, regardless of slang form.\n",
    "\n",
    "- 4 — Unrecognized Word (Niche or Internet-Originated): Words that may not appear in a dictionary but have evolved in niche or online spaces (e.g., 4chan, incel forums, or meme culture). Includes:\n",
    "    - Stylized neologisms\n",
    "    - Satirical or corrupted names\n",
    "    - Portmanteaus\n",
    "    - Morphological variants that shift or evolve meaning\n",
    "    - Niche combinations or mashups that convey subcultural or ironic meaning (e.g., \"anonkun\", \"betamale\", \"gaytheists\").\n",
    "\n",
    "- 4 - Unsure: you do not have enough information to classify the term.\n",
    "\n",
    "Special Notes:\n",
    "- Morphological variants (like plurals, possessives) should be classified the same as their base word unless the variation creates new niche meaning.\n",
    "- Misspellings should be interpreted based on likely intent.\n",
    "- Use the web summary for guidance but reason through cultural or structural patterns in the term.\n",
    "- If you cannot find enough reliable information but the term seems interpretable (e.g., \"antiukip\"), you may still make a judgment.\n",
    "\n",
    "Examples:\n",
    "- \"albaghdadi\" with summary \"ISIS leader\" → 1\n",
    "- \"aangezien\" with summary \"Dutch word meaning 'since'\" → 2\n",
    "- \"anticlinton\" with summary \"used by critics of Hillary Clinton\" → 0\n",
    "- \"antius\" with summary \"meaning anti-U.S.\" → 0\n",
    "- \"trmp\" with summary \"likely a misspelling of 'Trump'\" → 1\n",
    "- \"anonkun\" with summary \"term from 4chan used in fanfiction\" → 4\n",
    "- “anonkuns” plural variant of “anonkun” → 4\n",
    "- \"gibberfloop\" with no results or context → 5\n",
    "\n",
    "Now classify the following:\n",
    "\n",
    "Term: {term}\n",
    "\n",
    "Web Summary:\n",
    "{summary}\n",
    "\n",
    "Respond with a single number only: 0, 1, 2, 3, 4, or 5.\n",
    "\"\"\")\n",
    "\n",
    "chain = prompt | llm | StrOutputParser()"
   ]
  },
  {
   "cell_type": "code",
   "execution_count": 68,
   "metadata": {},
   "outputs": [
    {
     "name": "stdout",
     "output_type": "stream",
     "text": [
      "Classifying terms using Tavily + Gemma...\n"
     ]
    },
    {
     "name": "stderr",
     "output_type": "stream",
     "text": [
      "100%|██████████| 20/20 [01:54<00:00,  5.73s/it]\n"
     ]
    }
   ],
   "source": [
    "# Store results\n",
    "classifications = []\n",
    "summaries = []\n",
    "\n",
    "print(\"Classifying terms using Tavily + Gemma...\")\n",
    "for term in tqdm(terms):\n",
    "    try:\n",
    "        # Run Tavily first\n",
    "        search_result = search.invoke({\"query\": f\"Why are people on 4chan talking about '{term}'\"})\n",
    "        summary_text = search_result['summary'] if isinstance(search_result, dict) and 'summary' in search_result else str(search_result)\n",
    "        summaries.append(summary_text)\n",
    "\n",
    "        # Now classify\n",
    "        result = chain.invoke({\"term\": term, \"summary\": summary_text})\n",
    "        classifications.append(result.strip())\n",
    "\n",
    "    except Exception as e:\n",
    "        print(f\"Error for term '{term}': {e}\")\n",
    "        summaries.append(\"ERROR\")\n",
    "        classifications.append(\"4\")"
   ]
  },
  {
   "cell_type": "code",
   "execution_count": 43,
   "metadata": {},
   "outputs": [
    {
     "name": "stderr",
     "output_type": "stream",
     "text": [
      "/var/folders/xm/33lcj3wd44d9j13xd4f2kfnw0000gn/T/ipykernel_78326/4108910350.py:2: FutureWarning: Setting an item of incompatible dtype is deprecated and will raise an error in a future version of pandas. Value '['1', '1\\n', '1\\n', '0\\n', '1', '1\\n', '0\\n', '4\\n', '0', '0\\n', '0\\n', '0\\n', '0\\n', '0\\n', '0', '2\\n', '0\\n', '1\\n', '0', '1\\n']' has dtype incompatible with float64, please explicitly cast to a compatible dtype first.\n",
      "  words_df.loc[:19, 'gemma_label'] = classifications\n"
     ]
    }
   ],
   "source": [
    "words_df['gemma_label'] = np.nan\n",
    "words_df.loc[:19, 'gemma_label'] = classifications"
   ]
  },
  {
   "cell_type": "code",
   "execution_count": 62,
   "metadata": {},
   "outputs": [],
   "source": [
    "# Add results to DataFrame at the desired location\n",
    "#words_df.insert(loc=words_df.columns.get_loc(\"Hand Label \"), column=\"gemma_label\", value=classifications)\n"
   ]
  },
  {
   "cell_type": "code",
   "execution_count": 34,
   "metadata": {},
   "outputs": [
    {
     "name": "stdout",
     "output_type": "stream",
     "text": [
      "Classification complete! Results saved to data/terms_classified.csv\n"
     ]
    }
   ],
   "source": [
    "# Save to new CSV\n",
    "words_df.to_csv(\"/Users/katieeeritano/Desktop/Unrecognized-Terms-Classification/data/terms_classified.csv\", index=False)\n",
    "print(\"Classification complete! Results saved to data/terms_classified.csv\")"
   ]
  },
  {
   "cell_type": "code",
   "execution_count": 69,
   "metadata": {},
   "outputs": [
    {
     "name": "stdout",
     "output_type": "stream",
     "text": [
      "             term gemma_label  \\\n",
      "0       aangezien           2   \n",
      "1          alaqsa           3   \n",
      "2         alassad           4   \n",
      "3           albab           4   \n",
      "4      albaghdadi           1   \n",
      "5       allfather           4   \n",
      "6         altleft           0   \n",
      "7         anonkun           4   \n",
      "8     anticlinton           4   \n",
      "9      antimasker           4   \n",
      "10    antimaskers           4   \n",
      "11       antislav           4   \n",
      "12   antitrumpers           4   \n",
      "13       antiukip           4   \n",
      "14    antiukraine           4   \n",
      "15  antiukrainian           3   \n",
      "16         antius           4   \n",
      "17      antonescu           1   \n",
      "18           aocs           4   \n",
      "19       avdeevka           4   \n",
      "\n",
      "                                       tavily_summary  \n",
      "0   [{'title': '[PDF] Contentious branding - UvA-D...  \n",
      "1   [{'title': 'What is 4chan, and why is it so co...  \n",
      "2   [{'title': '[PDF] The Age of Incoherence? Unde...  \n",
      "3   [{'title': 'For the first time, my Steam Deck ...  \n",
      "4   [{'title': '[PDF] Exploring the Utility of Mem...  \n",
      "5   [{'title': \"It's funny that part of the 4chan ...  \n",
      "6   [{'title': \"Listen Up, Progressives: Here's Ho...  \n",
      "7   [{'title': 'What is 4chan, and why is it so co...  \n",
      "8   [{'title': \"Anti-Clinton troll 'Microchip' tes...  \n",
      "9   [{'title': \"Anti-maskers may now wear one 'to ...  \n",
      "10  [{'title': 'Anti-maskers explain themselves - ...  \n",
      "11  [{'title': 'What is 4chan, and why is it so co...  \n",
      "12  [{'title': 'Why does 4chan have to be so mean ...  \n",
      "13  [{'title': 'Why are people on 4chan so angry a...  \n",
      "14  [{'title': 'If you only consume mainstream med...  \n",
      "15  [{'title': 'Anti-Ukrainian sentiment - Wikiped...  \n",
      "16  [{'title': 'Why does 4chan have to be so mean ...  \n",
      "17  [{'title': '[PDF] An In-Depth Analysis of Extr...  \n",
      "18  [{'title': '4chan shows how some platforms are...  \n",
      "19  [{'title': 'UA pov: Azov company entering Avdi...  \n"
     ]
    }
   ],
   "source": [
    "results_df = pd.DataFrame({\n",
    "    'term': terms[:20],             # first 20 terms\n",
    "    'gemma_label': classifications,\n",
    "    'tavily_summary': summaries\n",
    "})\n",
    "\n",
    "print(results_df)"
   ]
  },
  {
   "cell_type": "code",
   "execution_count": 61,
   "metadata": {},
   "outputs": [
    {
     "ename": "NameError",
     "evalue": "name 'tavily_summary' is not defined",
     "output_type": "error",
     "traceback": [
      "\u001b[0;31m---------------------------------------------------------------------------\u001b[0m",
      "\u001b[0;31mNameError\u001b[0m                                 Traceback (most recent call last)",
      "Cell \u001b[0;32mIn[61], line 1\u001b[0m\n\u001b[0;32m----> 1\u001b[0m results_df\u001b[38;5;241m.\u001b[39mloc[\u001b[43mtavily_summary\u001b[49m][\u001b[38;5;241m7\u001b[39m]\n",
      "\u001b[0;31mNameError\u001b[0m: name 'tavily_summary' is not defined"
     ]
    }
   ],
   "source": []
  }
 ],
 "metadata": {
  "kernelspec": {
   "display_name": "Python 3",
   "language": "python",
   "name": "python3"
  },
  "language_info": {
   "codemirror_mode": {
    "name": "ipython",
    "version": 3
   },
   "file_extension": ".py",
   "mimetype": "text/x-python",
   "name": "python",
   "nbconvert_exporter": "python",
   "pygments_lexer": "ipython3",
   "version": "3.9.6"
  }
 },
 "nbformat": 4,
 "nbformat_minor": 2
}
